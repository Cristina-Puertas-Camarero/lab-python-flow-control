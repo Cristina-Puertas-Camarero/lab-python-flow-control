{
 "cells": [
  {
   "cell_type": "markdown",
   "id": "d3bfc191-8885-42ee-b0a0-bbab867c6f9f",
   "metadata": {
    "tags": []
   },
   "source": [
    "# Lab | Flow Control"
   ]
  },
  {
   "cell_type": "code",
   "execution_count": null,
   "id": "3851fcd1-cf98-4653-9c89-e003b7ec9400",
   "metadata": {},
   "outputs": [],
   "source": [
    "## Exercise: Managing Customer Orders Optimized\n",
    "\n",
    "In the last lab, you were starting an online store that sells various products. To ensure smooth operations, you developed a program that manages customer orders and inventory.\n",
    "\n",
    "You did so without using flow control. Let's go a step further and improve this code.\n",
    "\n",
    "Follow the steps below to complete the exercise:\n",
    "\n",
    "1. Look at your code from the lab data structures, and improve repeated code with loops.\n",
    "\n",
    "2. Instead of asking the user to input the name of three products that a customer wants to order, do the following:\n",
    "    \n",
    "    a. Prompt the user to enter the name of a product that a customer wants to order.\n",
    "    \n",
    "    b. Add the product name to the \"customer_orders\" set.\n",
    "    \n",
    "    c. Ask the user if they want to add another product (yes/no).\n",
    "    \n",
    "    d. Continue the loop until the user does not want to add another product.\n",
    "\n",
    "3. Instead of updating the inventory by subtracting 1 from the quantity of each product, only do it for  the products that were ordered (those in \"customer_orders\").\n",
    "    \n",
    "    "
   ]
  },
  {
   "cell_type": "code",
   "execution_count": 5,
   "id": "e910ab34",
   "metadata": {},
   "outputs": [],
   "source": [
    "products = (\"t-shirt\", \"mug\", \"hat\", \"book\", \"keychain\")"
   ]
  },
  {
   "cell_type": "code",
   "execution_count": 6,
   "id": "40413b1c",
   "metadata": {},
   "outputs": [],
   "source": [
    "inventory = {}"
   ]
  },
  {
   "cell_type": "code",
   "execution_count": 21,
   "id": "de2034ae",
   "metadata": {},
   "outputs": [],
   "source": [
    "for product in products:\n",
    "    inventory[product] = int(input(f\"cuantos {product}s hay? \"))"
   ]
  },
  {
   "cell_type": "code",
   "execution_count": 8,
   "id": "6559f080",
   "metadata": {},
   "outputs": [],
   "source": [
    "customer_orders = set()"
   ]
  },
  {
   "cell_type": "code",
   "execution_count": 11,
   "id": "8646e157",
   "metadata": {},
   "outputs": [],
   "source": [
    "while True:\n",
    "    product = input(\"introduce el nombre del producto que quieres: \")\n",
    "    if product in products:\n",
    "        customer_orders.add(product)\n",
    "    else:\n",
    "        print(\"producto inválido.\")\n",
    "    \n",
    "    continue_shopping = input(\"quieres seguir comprando? (si/no): \")\n",
    "    if continue_shopping in \"si\":\n",
    "        customer_orders.add(product)\n",
    "    \n",
    "    continue_shopping = input(\"quieres seguir comprando? (si/no): \")\n",
    "    if continue_shopping != 'si':\n",
    "        break\n",
    "\n",
    "        \n",
    "    "
   ]
  },
  {
   "cell_type": "code",
   "execution_count": 12,
   "id": "8bb9d54a",
   "metadata": {},
   "outputs": [
    {
     "name": "stdout",
     "output_type": "stream",
     "text": [
      "{'mug'}\n"
     ]
    }
   ],
   "source": [
    "print(customer_orders)"
   ]
  },
  {
   "cell_type": "code",
   "execution_count": null,
   "id": "2863fb89",
   "metadata": {},
   "outputs": [],
   "source": []
  },
  {
   "cell_type": "code",
   "execution_count": 14,
   "id": "8c56842d",
   "metadata": {},
   "outputs": [],
   "source": [
    "\n",
    "total_products_ordered = len(customer_orders)\n",
    "percentage_products_ordered = (total_products_ordered / len(products)) * 100\n"
   ]
  },
  {
   "cell_type": "code",
   "execution_count": 18,
   "id": "3c418240",
   "metadata": {},
   "outputs": [
    {
     "name": "stdout",
     "output_type": "stream",
     "text": [
      "productos que hay:\n",
      "Total Productos comprados: 1\n",
      "Porcentaje de productos comprados: 20.0%\n"
     ]
    }
   ],
   "source": [
    "print(f\"productos que hay:\\nTotal Productos comprados: {total_products_ordered}\\nPorcentaje de productos comprados: {percentage_products_ordered}%\")"
   ]
  },
  {
   "cell_type": "code",
   "execution_count": 19,
   "id": "7a29bb15",
   "metadata": {},
   "outputs": [],
   "source": [
    "for product in customer_orders:\n",
    "    if inventory[product] > 0:\n",
    "        inventory[product] -= 1\n",
    "    else:\n",
    "        print(f\"no quedan  {product}s.\")"
   ]
  },
  {
   "cell_type": "code",
   "execution_count": 20,
   "id": "f690af95",
   "metadata": {},
   "outputs": [
    {
     "name": "stdout",
     "output_type": "stream",
     "text": [
      "lo que queda en el inventario:\n",
      "t-shirt: 8\n",
      "mug: 2\n",
      "hat: 8\n",
      "book: 8\n",
      "keychain: 8\n"
     ]
    }
   ],
   "source": [
    "print(\"lo que queda en el inventario:\")\n",
    "for product in products:\n",
    "    print(f\"{product}: {inventory[product]}\")"
   ]
  }
 ],
 "metadata": {
  "kernelspec": {
   "display_name": "base",
   "language": "python",
   "name": "python3"
  },
  "language_info": {
   "codemirror_mode": {
    "name": "ipython",
    "version": 3
   },
   "file_extension": ".py",
   "mimetype": "text/x-python",
   "name": "python",
   "nbconvert_exporter": "python",
   "pygments_lexer": "ipython3",
   "version": "3.12.7"
  }
 },
 "nbformat": 4,
 "nbformat_minor": 5
}
